{
  "nbformat": 4,
  "nbformat_minor": 0,
  "metadata": {
    "colab": {
      "provenance": [],
      "authorship_tag": "ABX9TyOJjjVhJSE4SzADo9SkbexP",
      "include_colab_link": true
    },
    "kernelspec": {
      "name": "python3",
      "display_name": "Python 3"
    },
    "language_info": {
      "name": "python"
    }
  },
  "cells": [
    {
      "cell_type": "markdown",
      "metadata": {
        "id": "view-in-github",
        "colab_type": "text"
      },
      "source": [
        "<a href=\"https://colab.research.google.com/github/2303A51570/reinforcement-learning-/blob/main/lab5.ipynb\" target=\"_parent\"><img src=\"https://colab.research.google.com/assets/colab-badge.svg\" alt=\"Open In Colab\"/></a>"
      ]
    },
    {
      "cell_type": "code",
      "execution_count": 1,
      "metadata": {
        "colab": {
          "base_uri": "https://localhost:8080/"
        },
        "id": "d3tR-ZOaId64",
        "outputId": "5f3cc768-2ebb-46fb-be96-9c657b960574"
      },
      "outputs": [
        {
          "output_type": "stream",
          "name": "stdout",
          "text": [
            "Episode 2000, Avg Reward (last 2000): -179.57, ε=0.135\n",
            "Episode 4000, Avg Reward (last 2000): 4.53, ε=0.018\n",
            "Episode 6000, Avg Reward (last 2000): 7.38, ε=0.010\n",
            "Episode 8000, Avg Reward (last 2000): 7.43, ε=0.010\n",
            "Episode 10000, Avg Reward (last 2000): 7.52, ε=0.010\n",
            "Episode 12000, Avg Reward (last 2000): 7.47, ε=0.010\n",
            "Episode 14000, Avg Reward (last 2000): 7.37, ε=0.010\n",
            "Episode 16000, Avg Reward (last 2000): 7.41, ε=0.010\n",
            "Episode 18000, Avg Reward (last 2000): 7.43, ε=0.010\n",
            "Episode 20000, Avg Reward (last 2000): 7.48, ε=0.010\n",
            "\n",
            "=== Taxi-v3 Evaluation ===\n",
            "Average Return: 7.63\n",
            "Success Rate: 100.0%\n",
            "\n",
            "Sample Q-table (first 5 states):\n",
            " [[  0.           0.           0.           0.           0.\n",
            "    0.        ]\n",
            " [  1.06591656   2.65970474  -1.97941454   3.59732693   9.6220697\n",
            "   -6.05918363]\n",
            " [  8.16015484   9.49664755   3.50946346   7.98306884  14.11880599\n",
            "    1.08991912]\n",
            " [  3.40941022   0.37969727   2.6159144    2.78534581  10.72936333\n",
            "   -5.32836125]\n",
            " [ -6.93160336  -6.99779585   1.03691541  -6.98038118 -13.48382063\n",
            "  -14.20106611]]\n"
          ]
        }
      ],
      "source": [
        "import gymnasium as gym\n",
        "import numpy as np\n",
        "\n",
        "# Environment\n",
        "env = gym.make(\"Taxi-v3\")\n",
        "nS, nA = env.observation_space.n, env.action_space.n\n",
        "Q = np.zeros((nS, nA))\n",
        "\n",
        "# Hyperparameters\n",
        "episodes = 20000\n",
        "gamma, alpha = 0.99, 0.1\n",
        "eps, eps_min, eps_decay = 1.0, 0.01, 0.999\n",
        "\n",
        "# Training\n",
        "all_rewards = []\n",
        "for ep in range(1, episodes + 1):\n",
        "    s, _ = env.reset()\n",
        "    done, total_r = False, 0\n",
        "    while not done:\n",
        "        a = env.action_space.sample() if np.random.rand() < eps else np.argmax(Q[s])\n",
        "        s2, r, terminated, truncated, _ = env.step(a)\n",
        "        done = terminated or truncated\n",
        "        Q[s, a] += alpha * (r + gamma * np.max(Q[s2]) - Q[s, a])\n",
        "        s = s2\n",
        "        total_r += r\n",
        "    eps = max(eps_min, eps * eps_decay)\n",
        "    all_rewards.append(total_r)\n",
        "\n",
        "    # Progress log\n",
        "    if ep % 2000 == 0:\n",
        "        avg_r = np.mean(all_rewards[-2000:])\n",
        "        print(f\"Episode {ep}, Avg Reward (last 2000): {avg_r:.2f}, ε={eps:.3f}\")\n",
        "\n",
        "# Evaluation\n",
        "def evaluate(n_eval=100):\n",
        "    total, successes = 0, 0\n",
        "    for _ in range(n_eval):\n",
        "        s, _ = env.reset()\n",
        "        done, ep_r = False, 0\n",
        "        while not done:\n",
        "            a = np.argmax(Q[s])\n",
        "            s, r, terminated, truncated, _ = env.step(a)\n",
        "            done = terminated or truncated\n",
        "            ep_r += r\n",
        "        total += ep_r\n",
        "        if ep_r > 0:  # success in Taxi\n",
        "            successes += 1\n",
        "    return total / n_eval, successes / n_eval * 100\n",
        "\n",
        "avg_return, success_rate = evaluate()\n",
        "print(\"\\n=== Taxi-v3 Evaluation ===\")\n",
        "print(f\"Average Return: {avg_return:.2f}\")\n",
        "print(f\"Success Rate: {success_rate:.1f}%\")\n",
        "print(\"\\nSample Q-table (first 5 states):\\n\", Q[:5])\n"
      ]
    },
    {
      "cell_type": "code",
      "source": [
        "import gymnasium as gym\n",
        "import numpy as np\n",
        "\n",
        "# Environment\n",
        "env = gym.make(\"FrozenLake-v1\", is_slippery=False)  # change to True for stochastic env\n",
        "nS, nA = env.observation_space.n, env.action_space.n\n",
        "Q = np.zeros((nS, nA))\n",
        "\n",
        "# Hyperparameters\n",
        "episodes = 10000\n",
        "gamma, alpha = 0.99, 0.1\n",
        "eps, eps_min, eps_decay = 1.0, 0.01, 0.995\n",
        "\n",
        "# Training\n",
        "all_rewards = []\n",
        "for ep in range(1, episodes + 1):\n",
        "    s, _ = env.reset()\n",
        "    done, total_r = False, 0\n",
        "    while not done:\n",
        "        a = env.action_space.sample() if np.random.rand() < eps else np.argmax(Q[s])\n",
        "        s2, r, terminated, truncated, _ = env.step(a)\n",
        "        done = terminated or truncated\n",
        "        Q[s, a] += alpha * (r + gamma * np.max(Q[s2]) - Q[s, a])\n",
        "        s = s2\n",
        "        total_r += r\n",
        "    eps = max(eps_min, eps * eps_decay)\n",
        "    all_rewards.append(total_r)\n",
        "\n",
        "    # Progress log\n",
        "    if ep % 1000 == 0:\n",
        "        avg_r = np.mean(all_rewards[-1000:])\n",
        "        print(f\"Episode {ep}, Avg Reward (last 1000): {avg_r:.2f}, ε={eps:.3f}\")\n",
        "\n",
        "# Evaluation\n",
        "def evaluate(n_eval=100):\n",
        "    successes = 0\n",
        "    for _ in range(n_eval):\n",
        "        s, _ = env.reset()\n",
        "        done = False\n",
        "        while not done:\n",
        "            a = np.argmax(Q[s])\n",
        "            s, r, terminated, truncated, _ = env.step(a)\n",
        "            done = terminated or truncated\n",
        "            if r == 1:\n",
        "                successes += 1\n",
        "    return successes / n_eval * 100\n",
        "\n",
        "success_rate = evaluate()\n",
        "print(\"\\n=== FrozenLake-v1 Evaluation ===\")\n",
        "print(f\"Success Rate: {success_rate:.1f}%\")\n",
        "print(\"\\nSample Q-table (first 5 states):\\n\", Q[:5])\n"
      ],
      "metadata": {
        "colab": {
          "base_uri": "https://localhost:8080/"
        },
        "id": "xsqkw6BWIxFt",
        "outputId": "4aead101-8863-4022-fa8b-1102f4dbc9e5"
      },
      "execution_count": 2,
      "outputs": [
        {
          "output_type": "stream",
          "name": "stdout",
          "text": [
            "Episode 1000, Avg Reward (last 1000): 0.78, ε=0.010\n",
            "Episode 2000, Avg Reward (last 1000): 0.99, ε=0.010\n",
            "Episode 3000, Avg Reward (last 1000): 0.99, ε=0.010\n",
            "Episode 4000, Avg Reward (last 1000): 0.99, ε=0.010\n",
            "Episode 5000, Avg Reward (last 1000): 0.99, ε=0.010\n",
            "Episode 6000, Avg Reward (last 1000): 0.99, ε=0.010\n",
            "Episode 7000, Avg Reward (last 1000): 1.00, ε=0.010\n",
            "Episode 8000, Avg Reward (last 1000): 0.99, ε=0.010\n",
            "Episode 9000, Avg Reward (last 1000): 0.99, ε=0.010\n",
            "Episode 10000, Avg Reward (last 1000): 0.99, ε=0.010\n",
            "\n",
            "=== FrozenLake-v1 Evaluation ===\n",
            "Success Rate: 100.0%\n",
            "\n",
            "Sample Q-table (first 5 states):\n",
            " [[9.35582294e-01 9.50990050e-01 8.74405119e-01 9.27071853e-01]\n",
            " [9.30683860e-01 0.00000000e+00 2.17216093e-02 2.53817101e-03]\n",
            " [2.26758692e-01 0.00000000e+00 9.30046737e-07 4.96789089e-04]\n",
            " [6.37477922e-06 0.00000000e+00 3.32159549e-07 0.00000000e+00]\n",
            " [9.42731962e-01 9.60596010e-01 0.00000000e+00 9.38327344e-01]]\n"
          ]
        }
      ]
    },
    {
      "cell_type": "code",
      "source": [],
      "metadata": {
        "id": "Jk6AvxGYI1E6"
      },
      "execution_count": null,
      "outputs": []
    }
  ]
}